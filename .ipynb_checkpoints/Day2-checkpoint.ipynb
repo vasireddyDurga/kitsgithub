{
 "cells": [
  {
   "cell_type": "code",
   "execution_count": 4,
   "id": "9d93bb70-e1cd-412f-a1cb-f8300ed78b5a",
   "metadata": {},
   "outputs": [
    {
     "ename": "IndentationError",
     "evalue": "unexpected indent (<ipython-input-4-74a2e5c18e76>, line 7)",
     "output_type": "error",
     "traceback": [
      "\u001b[1;36m  File \u001b[1;32m\"<ipython-input-4-74a2e5c18e76>\"\u001b[1;36m, line \u001b[1;32m7\u001b[0m\n\u001b[1;33m    *sublist\u001b[0m\n\u001b[1;37m    ^\u001b[0m\n\u001b[1;31mIndentationError\u001b[0m\u001b[1;31m:\u001b[0m unexpected indent\n"
     ]
    }
   ],
   "source": [
    "# heading1\n",
    "## heading2\n",
    "### heading3\n",
    "\n",
    "\n",
    "*List\n",
    "        *sublist\n",
    "            *data\n",
    "             \n"
   ]
  },
  {
   "cell_type": "code",
   "execution_count": null,
   "id": "647d4f81-fea4-4234-b351-9d4983b529a0",
   "metadata": {},
   "outputs": [],
   "source": []
  },
  {
   "cell_type": "code",
   "execution_count": null,
   "id": "d295da70-1c89-4e84-8e54-25b2f2f09da6",
   "metadata": {},
   "outputs": [],
   "source": []
  }
 ],
 "metadata": {
  "kernelspec": {
   "display_name": "Python 3",
   "language": "python",
   "name": "python3"
  },
  "language_info": {
   "codemirror_mode": {
    "name": "ipython",
    "version": 3
   },
   "file_extension": ".py",
   "mimetype": "text/x-python",
   "name": "python",
   "nbconvert_exporter": "python",
   "pygments_lexer": "ipython3",
   "version": "3.8.8"
  }
 },
 "nbformat": 4,
 "nbformat_minor": 5
}
