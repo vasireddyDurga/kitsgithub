{
 "cells": [
  {
   "cell_type": "code",
   "execution_count": 1,
   "id": "2c417d54-b804-4d73-bb55-b236b4c122c3",
   "metadata": {},
   "outputs": [
    {
     "data": {
      "text/plain": [
       "str"
      ]
     },
     "execution_count": 1,
     "metadata": {},
     "output_type": "execute_result"
    }
   ],
   "source": [
    "# strings\n",
    "s='123'\n",
    "type(s)"
   ]
  },
  {
   "cell_type": "code",
   "execution_count": 17,
   "id": "84c597eb-13b7-47fe-b16a-4a8a022ebeed",
   "metadata": {},
   "outputs": [
    {
     "name": "stdout",
     "output_type": "stream",
     "text": [
      "python programming\n",
      "p\n",
      "g\n",
      "python\n",
      "ng\n",
      "python\n",
      "pto\n",
      "ython programmin\n",
      "gnimmargorp nohtyp\n",
      "18\n",
      "9.0\n",
      "o\n",
      "nohtyp\n",
      " nohtyp programming\n",
      " nohtyp programming\n",
      "gnimmargorp nohtyp\n",
      "python programming\n"
     ]
    }
   ],
   "source": [
    "# strings\n",
    "s=\"python programming\"\n",
    "print(s)\n",
    "print(s[0])\n",
    "print(s[-1])\n",
    "print(s[0:6])\n",
    "print(s[-2:])\n",
    "print(s[0:6:1])\n",
    "print(s[0:6:2])\n",
    "print(s[1:-1])\n",
    "print(s[::-1])\n",
    "print(len(s))\n",
    "print(len(s)/2)\n",
    "print(s[len(s)//2])\n",
    "print(s[5::-1])\n",
    "print(s[6::-1]+ \" \"+s[7::1])\n",
    "print(s[6:0:-1]+s[0],s[7:] )\n",
    "print(s[::-1])\n",
    "print(s[0:-1:]+s[-1])"
   ]
  },
  {
   "cell_type": "code",
   "execution_count": 18,
   "id": "b133ba01-005f-4e39-ad48-c3da06407a2d",
   "metadata": {},
   "outputs": [
    {
     "name": "stdout",
     "output_type": "stream",
     "text": [
      "['__add__', '__class__', '__contains__', '__delattr__', '__dir__', '__doc__', '__eq__', '__format__', '__ge__', '__getattribute__', '__getitem__', '__getnewargs__', '__gt__', '__hash__', '__init__', '__init_subclass__', '__iter__', '__le__', '__len__', '__lt__', '__mod__', '__mul__', '__ne__', '__new__', '__reduce__', '__reduce_ex__', '__repr__', '__rmod__', '__rmul__', '__setattr__', '__sizeof__', '__str__', '__subclasshook__', 'capitalize', 'casefold', 'center', 'count', 'encode', 'endswith', 'expandtabs', 'find', 'format', 'format_map', 'index', 'isalnum', 'isalpha', 'isascii', 'isdecimal', 'isdigit', 'isidentifier', 'islower', 'isnumeric', 'isprintable', 'isspace', 'istitle', 'isupper', 'join', 'ljust', 'lower', 'lstrip', 'maketrans', 'partition', 'replace', 'rfind', 'rindex', 'rjust', 'rpartition', 'rsplit', 'rstrip', 'split', 'splitlines', 'startswith', 'strip', 'swapcase', 'title', 'translate', 'upper', 'zfill']\n"
     ]
    }
   ],
   "source": [
    "print(dir(' '))"
   ]
  },
  {
   "cell_type": "code",
   "execution_count": 81,
   "id": "da9ce8f1-2120-4fe1-99fa-b77906a2b810",
   "metadata": {},
   "outputs": [
    {
     "name": "stdout",
     "output_type": "stream",
     "text": [
      "True\n",
      "False\n",
      "Durga\n",
      "False\n",
      "Durga\n",
      "durga\n",
      "b'Durga'\n",
      "True\n"
     ]
    }
   ],
   "source": [
    "s='durga'\n",
    "print(s.islower())\n",
    "print(s.isupper())\n",
    "print(s.capitalize())\n",
    "print(s.istitle())\n",
    "n=s.capitalize()\n",
    "print(n)\n",
    "print(n.casefold())\n",
    "print(n.encode())\n",
    "print(n.istitle())"
   ]
  },
  {
   "cell_type": "code",
   "execution_count": 24,
   "id": "a2f95c1f-f567-4e85-bd54-ab0526a05435",
   "metadata": {},
   "outputs": [
    {
     "name": "stdout",
     "output_type": "stream",
     "text": [
      "False\n",
      "This Is Durga\n",
      "False\n",
      "True\n",
      "True\n",
      "False\n"
     ]
    }
   ],
   "source": [
    "s='This is durga'\n",
    "print(s.istitle())\n",
    "print(s.title())\n",
    "print(s.startswith('t'))\n",
    "print(s.startswith('T'))\n",
    "print(s.endswith('a'))\n",
    "print(s.endswith('A'))"
   ]
  },
  {
   "cell_type": "code",
   "execution_count": 28,
   "id": "65ffef24-1ab8-4f75-93c1-f5f9affeb5ac",
   "metadata": {},
   "outputs": [
    {
     "name": "stdout",
     "output_type": "stream",
     "text": [
      "       durga        \n",
      " durga  \n",
      "##durga###\n",
      "durga#\n"
     ]
    }
   ],
   "source": [
    "s='durga'\n",
    "print(s.center(20))\n",
    "print(s.center(8))\n",
    "print(s.center(10,'#'))\n",
    "print(s.center(6,'#'))"
   ]
  },
  {
   "cell_type": "code",
   "execution_count": 33,
   "id": "db3378da-25c2-4134-9ba2-6cbe8f913223",
   "metadata": {},
   "outputs": [
    {
     "name": "stdout",
     "output_type": "stream",
     "text": [
      "2\n",
      "6\n",
      "3\n"
     ]
    }
   ],
   "source": [
    "s='ooohellooo'\n",
    "print(s.count('l'))\n",
    "print(s.count('o'))\n",
    "print(s.count('o',0,4))"
   ]
  },
  {
   "cell_type": "code",
   "execution_count": 44,
   "id": "250deb6e-2986-4bf6-9fd2-49c2c6066126",
   "metadata": {},
   "outputs": [
    {
     "name": "stdout",
     "output_type": "stream",
     "text": [
      "1\n",
      "6\n",
      "6\n",
      "1\n",
      "-1\n"
     ]
    },
    {
     "ename": "ValueError",
     "evalue": "substring not found",
     "output_type": "error",
     "traceback": [
      "\u001b[1;31m---------------------------------------------------------------------------\u001b[0m",
      "\u001b[1;31mValueError\u001b[0m                                Traceback (most recent call last)",
      "\u001b[1;32m<ipython-input-44-a2cb2d9ec188>\u001b[0m in \u001b[0;36m<module>\u001b[1;34m\u001b[0m\n\u001b[0;32m      5\u001b[0m \u001b[0mprint\u001b[0m\u001b[1;33m(\u001b[0m\u001b[0ms\u001b[0m\u001b[1;33m.\u001b[0m\u001b[0mindex\u001b[0m\u001b[1;33m(\u001b[0m\u001b[1;34m'a'\u001b[0m\u001b[1;33m)\u001b[0m\u001b[1;33m)\u001b[0m\u001b[1;33m\u001b[0m\u001b[1;33m\u001b[0m\u001b[0m\n\u001b[0;32m      6\u001b[0m \u001b[0mprint\u001b[0m\u001b[1;33m(\u001b[0m\u001b[0ms\u001b[0m\u001b[1;33m.\u001b[0m\u001b[0mfind\u001b[0m\u001b[1;33m(\u001b[0m\u001b[1;34m'z'\u001b[0m\u001b[1;33m)\u001b[0m\u001b[1;33m)\u001b[0m\u001b[1;33m\u001b[0m\u001b[1;33m\u001b[0m\u001b[0m\n\u001b[1;32m----> 7\u001b[1;33m \u001b[0mprint\u001b[0m\u001b[1;33m(\u001b[0m\u001b[0ms\u001b[0m\u001b[1;33m.\u001b[0m\u001b[0mindex\u001b[0m\u001b[1;33m(\u001b[0m\u001b[1;34m'z'\u001b[0m\u001b[1;33m)\u001b[0m\u001b[1;33m)\u001b[0m\u001b[1;33m\u001b[0m\u001b[1;33m\u001b[0m\u001b[0m\n\u001b[0m",
      "\u001b[1;31mValueError\u001b[0m: substring not found"
     ]
    }
   ],
   "source": [
    "s='kadurgar'\n",
    "print(s.find('a'))\n",
    "print(s.find('a',3,))\n",
    "print(s.rfind('a'))\n",
    "print(s.index('a'))\n",
    "print(s.find('z'))\n",
    "print(s.index('z'))"
   ]
  },
  {
   "cell_type": "code",
   "execution_count": 46,
   "id": "93d2c0a4-dacb-4148-84d1-b11216426e4a",
   "metadata": {},
   "outputs": [
    {
     "data": {
      "text/plain": [
       "'h       el      l       o'"
      ]
     },
     "execution_count": 46,
     "metadata": {},
     "output_type": "execute_result"
    }
   ],
   "source": [
    "s='h\\tel\\tl\\to'\n",
    "s.expandtabs()"
   ]
  },
  {
   "cell_type": "code",
   "execution_count": 50,
   "id": "fe242330-366b-4ffc-be36-6e4c2de0043d",
   "metadata": {},
   "outputs": [
    {
     "name": "stdout",
     "output_type": "stream",
     "text": [
      "this is durga and iam 18 years old\n"
     ]
    }
   ],
   "source": [
    "h='this is {name} and iam {age} years old'.format(name='durga',age='18')\n",
    "print(h)"
   ]
  },
  {
   "cell_type": "code",
   "execution_count": 52,
   "id": "9a8e3b34-34d4-446e-9c1b-8a1ccd20adaa",
   "metadata": {},
   "outputs": [
    {
     "name": "stdout",
     "output_type": "stream",
     "text": [
      "this is durga and iam 18 years old\n"
     ]
    }
   ],
   "source": [
    "h='this is {} and iam {} years old'.format('durga','18')\n",
    "print(h)"
   ]
  },
  {
   "cell_type": "code",
   "execution_count": 53,
   "id": "2f97c1bb-2d18-43cc-84e0-a220361a9318",
   "metadata": {},
   "outputs": [
    {
     "name": "stdout",
     "output_type": "stream",
     "text": [
      "True\n",
      "False\n",
      "False\n"
     ]
    }
   ],
   "source": [
    "s='durga123'\n",
    "print(s.isalnum())\n",
    "print(s.isalpha())\n",
    "print(s.isdigit())"
   ]
  },
  {
   "cell_type": "code",
   "execution_count": 54,
   "id": "9f4c274d-99f0-451e-8e57-9d371998421a",
   "metadata": {},
   "outputs": [
    {
     "name": "stdout",
     "output_type": "stream",
     "text": [
      "True\n",
      "False\n",
      "True\n"
     ]
    }
   ],
   "source": [
    "s='1234'\n",
    "print(s.isalnum())\n",
    "print(s.isalpha())\n",
    "print(s.isdigit())"
   ]
  },
  {
   "cell_type": "code",
   "execution_count": 55,
   "id": "b5696eac-7431-49f9-8cb2-5e23a882c8f9",
   "metadata": {},
   "outputs": [
    {
     "name": "stdout",
     "output_type": "stream",
     "text": [
      "True\n",
      "True\n",
      "True\n"
     ]
    }
   ],
   "source": [
    "s='123'\n",
    "print(s.isdigit())\n",
    "print(s.isdecimal())\n",
    "print(s.isnumeric())"
   ]
  },
  {
   "cell_type": "code",
   "execution_count": 56,
   "id": "cfd22eac-37aa-42d1-99e5-5d002901297c",
   "metadata": {},
   "outputs": [
    {
     "name": "stdout",
     "output_type": "stream",
     "text": [
      "True\n",
      "False\n",
      "True\n"
     ]
    }
   ],
   "source": [
    "s=\"\\u00B2\"\n",
    "print(s.isdigit())\n",
    "print(s.isdecimal())\n",
    "print(s.isnumeric())"
   ]
  },
  {
   "cell_type": "code",
   "execution_count": 57,
   "id": "f8257dae-11f2-4ff5-a1fa-98a0f666724b",
   "metadata": {},
   "outputs": [
    {
     "data": {
      "text/plain": [
       "False"
      ]
     },
     "execution_count": 57,
     "metadata": {},
     "output_type": "execute_result"
    }
   ],
   "source": [
    "sp='sfsd fs'\n",
    "sp.isspace()"
   ]
  },
  {
   "cell_type": "code",
   "execution_count": 59,
   "id": "09b006d8-41a4-44d3-a26b-a2c528cd035e",
   "metadata": {},
   "outputs": [
    {
     "data": {
      "text/plain": [
       "True"
      ]
     },
     "execution_count": 59,
     "metadata": {},
     "output_type": "execute_result"
    }
   ],
   "source": [
    "s=\"    \"\n",
    "s.isspace()"
   ]
  },
  {
   "cell_type": "code",
   "execution_count": 60,
   "id": "e38ed8d8-0cab-40f5-95f2-98192b70c833",
   "metadata": {},
   "outputs": [
    {
     "name": "stdout",
     "output_type": "stream",
     "text": [
      "durga\n",
      "durga   \n",
      "   durga\n"
     ]
    }
   ],
   "source": [
    "st='   durga   '\n",
    "print(st.strip())\n",
    "print(st.lstrip())\n",
    "print(st.rstrip())"
   ]
  },
  {
   "cell_type": "code",
   "execution_count": 65,
   "id": "cc592c34-c285-44e6-90b0-230d3fb7eac1",
   "metadata": {},
   "outputs": [
    {
     "data": {
      "text/plain": [
       "('hello ', 'this', ' is durga')"
      ]
     },
     "execution_count": 65,
     "metadata": {},
     "output_type": "execute_result"
    }
   ],
   "source": [
    "s='hello this is durga'\n",
    "s.partition('this')"
   ]
  },
  {
   "cell_type": "code",
   "execution_count": 66,
   "id": "c297da69-6d3c-4391-890f-9156a8d994ab",
   "metadata": {},
   "outputs": [
    {
     "name": "stdout",
     "output_type": "stream",
     "text": [
      "('hello ', 'this', ' this this is durga')\n",
      "('hello this this ', 'this', ' is durga')\n"
     ]
    }
   ],
   "source": [
    "s='hello this this this is durga'\n",
    "print(s.partition('this'))\n",
    "print(s.rpartition('this'))"
   ]
  },
  {
   "cell_type": "code",
   "execution_count": 67,
   "id": "5ed83035-0800-4066-8093-54905346e32c",
   "metadata": {},
   "outputs": [
    {
     "name": "stdout",
     "output_type": "stream",
     "text": [
      "hello this is mani\n"
     ]
    }
   ],
   "source": [
    "s='hello this is durga'\n",
    "print(s.replace('durga','mani'))"
   ]
  },
  {
   "cell_type": "code",
   "execution_count": 69,
   "id": "4b4aa22f-220f-4a58-8489-1164acbe0c14",
   "metadata": {},
   "outputs": [
    {
     "name": "stdout",
     "output_type": "stream",
     "text": [
      "hello hello hello how are you\n",
      "hello hai hai how are you\n",
      "hello hello hai how are you\n"
     ]
    }
   ],
   "source": [
    "s='hai hai hai how are you'\n",
    "print(s.replace('hai','hello'))\n",
    "print(s.replace('hai','hello',1))\n",
    "print(s.replace('hai','hello',2))"
   ]
  },
  {
   "cell_type": "code",
   "execution_count": 70,
   "id": "2a258ff2-a09d-497c-9ffa-eb3d388d22fa",
   "metadata": {},
   "outputs": [
    {
     "name": "stdout",
     "output_type": "stream",
     "text": [
      "DUrGa\n"
     ]
    }
   ],
   "source": [
    "s='duRgA'\n",
    "print(s.swapcase())"
   ]
  },
  {
   "cell_type": "code",
   "execution_count": 77,
   "id": "711b31ff-8339-43fa-a5c7-96b9309570b1",
   "metadata": {},
   "outputs": [
    {
     "name": "stdout",
     "output_type": "stream",
     "text": [
      "@@@@@@@@@@@@@@@durga\n",
      "durga@@@@@@@@@@@@@@@\n",
      "0000000000000000000000000durga\n"
     ]
    }
   ],
   "source": [
    "s='durga'\n",
    "print(s.rjust(20,'@'))\n",
    "print(s.ljust(20,'@'))\n",
    "print(s.zfill(30))"
   ]
  },
  {
   "cell_type": "code",
   "execution_count": 84,
   "id": "81f1489c-df92-47c4-876d-1202524c0cb5",
   "metadata": {},
   "outputs": [
    {
     "name": "stdout",
     "output_type": "stream",
     "text": [
      "['hai ', ' how are you']\n",
      "['hai', 'students', 'how', 'are', 'you']\n"
     ]
    }
   ],
   "source": [
    "s='hai students how are you'\n",
    "print(s.split('students'))\n",
    "print(s.split())"
   ]
  },
  {
   "cell_type": "code",
   "execution_count": 85,
   "id": "e0c1389b-31e7-4790-b2bd-d6fa52e298b8",
   "metadata": {},
   "outputs": [
    {
     "name": "stdout",
     "output_type": "stream",
     "text": [
      "('hai ', 'students', ' how are you')\n"
     ]
    },
    {
     "ename": "TypeError",
     "evalue": "partition() takes exactly one argument (0 given)",
     "output_type": "error",
     "traceback": [
      "\u001b[1;31m---------------------------------------------------------------------------\u001b[0m",
      "\u001b[1;31mTypeError\u001b[0m                                 Traceback (most recent call last)",
      "\u001b[1;32m<ipython-input-85-64933af7bfc0>\u001b[0m in \u001b[0;36m<module>\u001b[1;34m\u001b[0m\n\u001b[0;32m      1\u001b[0m \u001b[0ms\u001b[0m\u001b[1;33m=\u001b[0m\u001b[1;34m'hai students how are you'\u001b[0m\u001b[1;33m\u001b[0m\u001b[1;33m\u001b[0m\u001b[0m\n\u001b[0;32m      2\u001b[0m \u001b[0mprint\u001b[0m\u001b[1;33m(\u001b[0m\u001b[0ms\u001b[0m\u001b[1;33m.\u001b[0m\u001b[0mpartition\u001b[0m\u001b[1;33m(\u001b[0m\u001b[1;34m'students'\u001b[0m\u001b[1;33m)\u001b[0m\u001b[1;33m)\u001b[0m\u001b[1;33m\u001b[0m\u001b[1;33m\u001b[0m\u001b[0m\n\u001b[1;32m----> 3\u001b[1;33m \u001b[0mprint\u001b[0m\u001b[1;33m(\u001b[0m\u001b[0ms\u001b[0m\u001b[1;33m.\u001b[0m\u001b[0mpartition\u001b[0m\u001b[1;33m(\u001b[0m\u001b[1;33m)\u001b[0m\u001b[1;33m)\u001b[0m\u001b[1;33m\u001b[0m\u001b[1;33m\u001b[0m\u001b[0m\n\u001b[0m",
      "\u001b[1;31mTypeError\u001b[0m: partition() takes exactly one argument (0 given)"
     ]
    }
   ],
   "source": [
    "s='hai students how are you'\n",
    "print(s.partition('students'))\n",
    "print(s.partition())"
   ]
  },
  {
   "cell_type": "code",
   "execution_count": 89,
   "id": "b46bff30-de8b-4931-92fa-0ffed018ff1a",
   "metadata": {},
   "outputs": [
    {
     "name": "stdout",
     "output_type": "stream",
     "text": [
      "['hai', ' stu', 'dents', ' how are', ' you']\n",
      "['hai\\n', ' stu\\n', 'dents\\n', ' how are\\n', ' you']\n"
     ]
    }
   ],
   "source": [
    "s='hai\\n stu\\ndents\\n how are\\n you'\n",
    "print(s.splitlines())\n",
    "print(s.splitlines(True))"
   ]
  },
  {
   "cell_type": "code",
   "execution_count": 92,
   "id": "2952c689-70f6-4053-a14e-f598bba41c92",
   "metadata": {},
   "outputs": [
    {
     "name": "stdout",
     "output_type": "stream",
     "text": [
      "hai friends how are you\n"
     ]
    }
   ],
   "source": [
    "s='hai students how are you'\n",
    "s1=s.split('students')\n",
    "s2=\"friends\".join(s1)         \n",
    "print(s2)         "
   ]
  },
  {
   "cell_type": "code",
   "execution_count": 98,
   "id": "f146714a-f8d6-42be-bce9-0055738f4e99",
   "metadata": {},
   "outputs": [
    {
     "name": "stdout",
     "output_type": "stream",
     "text": [
      "hello sam\n"
     ]
    }
   ],
   "source": [
    "hellO={83: 80}\n",
    "data=\"hello sam\"\n",
    "print(data.translate('hello'))"
   ]
  },
  {
   "cell_type": "code",
   "execution_count": 103,
   "id": "2f5554a2-3f97-4ad1-ad71-c0ead6c06395",
   "metadata": {},
   "outputs": [
    {
     "name": "stdin",
     "output_type": "stream",
     "text": [
      "Enter value: 12345\n"
     ]
    },
    {
     "name": "stdout",
     "output_type": "stream",
     "text": [
      "5\n",
      "<built-in method count of str object at 0x036999A0>\n"
     ]
    }
   ],
   "source": [
    "# function count the numder digits in a given number\n",
    "\n",
    "n=input('Enter value:')\n",
    "print(len(str(n)))\n",
    "print(n.count)\n"
   ]
  },
  {
   "cell_type": "code",
   "execution_count": 105,
   "id": "0aee0c52-0209-4bb6-bb6e-10e9ec0e9b3e",
   "metadata": {},
   "outputs": [
    {
     "name": "stdout",
     "output_type": "stream",
     "text": [
      "palindrome\n"
     ]
    }
   ],
   "source": [
    "# check if a string is palindrome or not\n",
    "a='stuts'\n",
    "b=s[::-1]\n",
    "if a==b:\n",
    "    print('palindrome')\n"
   ]
  },
  {
   "cell_type": "code",
   "execution_count": 106,
   "id": "1eae9718-a83d-458a-a099-8b0edfcf5f2f",
   "metadata": {},
   "outputs": [],
   "source": [
    "def palindrome(s):\n",
    "    if s==s[::-1]:\n",
    "        return \"palindrome\"\n",
    "    else:\n",
    "        return \"not palindrome\""
   ]
  },
  {
   "cell_type": "code",
   "execution_count": null,
   "id": "f13156dd-6612-4fb6-a7d5-4ff431c941d1",
   "metadata": {},
   "outputs": [],
   "source": []
  }
 ],
 "metadata": {
  "kernelspec": {
   "display_name": "Python 3",
   "language": "python",
   "name": "python3"
  },
  "language_info": {
   "codemirror_mode": {
    "name": "ipython",
    "version": 3
   },
   "file_extension": ".py",
   "mimetype": "text/x-python",
   "name": "python",
   "nbconvert_exporter": "python",
   "pygments_lexer": "ipython3",
   "version": "3.8.8"
  }
 },
 "nbformat": 4,
 "nbformat_minor": 5
}
