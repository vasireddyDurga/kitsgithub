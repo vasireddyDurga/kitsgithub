{
 "cells": [
  {
   "cell_type": "code",
   "execution_count": 9,
   "id": "003a4e63-ff3e-4876-9f0a-31100f3621a5",
   "metadata": {},
   "outputs": [
    {
     "name": "stdout",
     "output_type": "stream",
     "text": [
      "0  *\n",
      "1  **\n",
      "2  ***\n",
      "3  ****\n",
      "4  *****\n",
      "5  ****\n",
      "6  ***\n",
      "7  **\n",
      "8  *\n"
     ]
    }
   ],
   "source": [
    "str=' '\n",
    "for i in range(9):\n",
    "    if i<5:\n",
    "        str+='*'\n",
    "        print(i,str)\n",
    "    elif i>4:\n",
    "        str=str[:-1]\n",
    "        print(i,str)"
   ]
  },
  {
   "cell_type": "code",
   "execution_count": 13,
   "id": "51059223-2c64-4194-93e8-6702d2021c51",
   "metadata": {},
   "outputs": [
    {
     "name": "stdout",
     "output_type": "stream",
     "text": [
      "22\t78\t14\t69\t64\t85\t28\t38\t36\t30\t44\t41\t22\t22\t59\t28\t77\t25\t62\t12\t22\t71\t29\t68\t4\t39\t57\t33\t26\t80\t6\t86\t12\t33\t28\t91\t85\t23\t66\t100\t54\t99\t24\t51\t8\t2\t70\t34\t61\t34\t56\t33\t36\t34\t72\t26\t99\t86\t47\t60\t60\t75\t94\t56\t45\t27\t50\t94\t69\t4\t33\t67\t21\t90\t71\t93\t57\t22\t94\t51\t20\t13\t73\t73\t64\t4\t50\t76\t83\t77\t55\t30\t56\t42\t67\t24\t67\t16\t18\t8\t"
     ]
    }
   ],
   "source": [
    "import random\n",
    "for i in range(100):\n",
    "    k=random.randint(1,100)\n",
    "    print(k,end='\\t')"
   ]
  },
  {
   "cell_type": "code",
   "execution_count": 17,
   "id": "9d0842d6-3fa3-4643-8c5d-8a12707324be",
   "metadata": {},
   "outputs": [
    {
     "ename": "IndentationError",
     "evalue": "unindent does not match any outer indentation level (<tokenize>, line 8)",
     "output_type": "error",
     "traceback": [
      "\u001b[1;36m  File \u001b[1;32m\"<tokenize>\"\u001b[1;36m, line \u001b[1;32m8\u001b[0m\n\u001b[1;33m    * modes\u001b[0m\n\u001b[1;37m    ^\u001b[0m\n\u001b[1;31mIndentationError\u001b[0m\u001b[1;31m:\u001b[0m unindent does not match any outer indentation level\n"
     ]
    }
   ],
   "source": [
    "# Files\n",
    "* collection of information.\n",
    "* methods \n",
    "   read()\n",
    "   write()\n",
    "   readline()\n",
    "   readlines()\n",
    " * modes\n",
    "    read ---->r\n",
    "    write  ----->w\n",
    "    append ----->a\n",
    "* steps\n",
    "    open a file --->open(filename,mode)\n",
    "    method declaration --->read(),write()\n",
    "    close the file ---->filename.close()"
   ]
  },
  {
   "cell_type": "code",
   "execution_count": 19,
   "id": "38250323-6471-4793-adb0-0fedc699e94f",
   "metadata": {},
   "outputs": [
    {
     "name": "stdout",
     "output_type": "stream",
     "text": [
      "good morning\n"
     ]
    }
   ],
   "source": [
    "f=open('sample.txt','r')\n",
    "f1=f.read()\n",
    "print(f1)\n",
    "f.close()"
   ]
  },
  {
   "cell_type": "code",
   "execution_count": 24,
   "id": "bc38f98d-e421-47d0-9a76-882271b9c1e9",
   "metadata": {},
   "outputs": [
    {
     "name": "stdin",
     "output_type": "stream",
     "text": [
      "enter your data online classes\n"
     ]
    }
   ],
   "source": [
    "f=open('sample.txt','a')\n",
    "data=input('enter your data')\n",
    "f.write(data+'\\n')\n",
    "f.close()"
   ]
  },
  {
   "cell_type": "code",
   "execution_count": 26,
   "id": "0c8e2659-5a0e-4591-94b8-f86ccbeedcbb",
   "metadata": {},
   "outputs": [
    {
     "name": "stdin",
     "output_type": "stream",
     "text": [
      " welcome APSSDC\n"
     ]
    }
   ],
   "source": [
    "f=open('sample.txt','w')\n",
    "data=input()\n",
    "f.write(data)\n",
    "f.close()"
   ]
  },
  {
   "cell_type": "code",
   "execution_count": 27,
   "id": "33f9c2d0-a3bd-4b45-a18a-74ef9b5c9aee",
   "metadata": {},
   "outputs": [
    {
     "name": "stdin",
     "output_type": "stream",
     "text": [
      " welcome online classes\n"
     ]
    }
   ],
   "source": [
    "f=open('data.txt','w')\n",
    "data=input()\n",
    "f.write(data)\n",
    "f.close()"
   ]
  },
  {
   "cell_type": "code",
   "execution_count": 35,
   "id": "802ebdab-458a-4ea9-a986-cc27c6bde583",
   "metadata": {},
   "outputs": [
    {
     "name": "stdout",
     "output_type": "stream",
     "text": [
      "python programming\n",
      "kits\n",
      "college\n"
     ]
    }
   ],
   "source": [
    "f=open('data.txt','r')\n",
    "f1=f.read()\n",
    "print(f1)\n",
    "f.close()"
   ]
  },
  {
   "cell_type": "code",
   "execution_count": 34,
   "id": "5ebb0240-c0e6-44a3-944c-015ee677de0a",
   "metadata": {},
   "outputs": [
    {
     "name": "stdout",
     "output_type": "stream",
     "text": [
      "python programming\n",
      "\n"
     ]
    }
   ],
   "source": [
    "f=open('data.txt','r')\n",
    "f1=f.readline(20)\n",
    "print(f1)\n",
    "f.close()"
   ]
  },
  {
   "cell_type": "code",
   "execution_count": 33,
   "id": "d657664b-a351-4fc5-9906-d53a91a8be9e",
   "metadata": {},
   "outputs": [
    {
     "name": "stdout",
     "output_type": "stream",
     "text": [
      "['python programming\\n', 'kits\\n', 'college']\n"
     ]
    }
   ],
   "source": [
    "f=open('data.txt','r')\n",
    "f1=f.readlines()\n",
    "print(f1)\n",
    "f.close()"
   ]
  },
  {
   "cell_type": "code",
   "execution_count": 36,
   "id": "68172c42-d2a8-4007-88e5-9cb89fcb7c0a",
   "metadata": {},
   "outputs": [
    {
     "name": "stdout",
     "output_type": "stream",
     "text": [
      "python programming\n",
      "kits\n",
      "college\n"
     ]
    }
   ],
   "source": [
    "with open('data.txt','r') as f:\n",
    "    f1=f.read()\n",
    "    print(f1)"
   ]
  },
  {
   "cell_type": "code",
   "execution_count": 37,
   "id": "d1718569-6485-4909-959a-ae86273c2262",
   "metadata": {},
   "outputs": [
    {
     "name": "stdin",
     "output_type": "stream",
     "text": [
      " good morning\n"
     ]
    }
   ],
   "source": [
    "with open('data.txt','a') as f:\n",
    "    data=input()\n",
    "    f1=f.write(data)\n",
    "    "
   ]
  },
  {
   "cell_type": "code",
   "execution_count": 38,
   "id": "57e75f95-485c-46f8-b3c6-f6f986500673",
   "metadata": {},
   "outputs": [
    {
     "name": "stdin",
     "output_type": "stream",
     "text": [
      " python online class\n"
     ]
    }
   ],
   "source": [
    "with open('data1.txt','w') as f:\n",
    "    data=input()\n",
    "    f1=f.write(data)"
   ]
  },
  {
   "cell_type": "code",
   "execution_count": 39,
   "id": "8ead72ac-29f7-4121-ac68-58c064bbdc2a",
   "metadata": {},
   "outputs": [
    {
     "ename": "FileExistsError",
     "evalue": "[Errno 17] File exists: 'data1.txt'",
     "output_type": "error",
     "traceback": [
      "\u001b[1;31m---------------------------------------------------------------------------\u001b[0m",
      "\u001b[1;31mFileExistsError\u001b[0m                           Traceback (most recent call last)",
      "\u001b[1;32m<ipython-input-39-a22ab50f1b8a>\u001b[0m in \u001b[0;36m<module>\u001b[1;34m\u001b[0m\n\u001b[1;32m----> 1\u001b[1;33m \u001b[1;32mwith\u001b[0m \u001b[0mopen\u001b[0m\u001b[1;33m(\u001b[0m\u001b[1;34m'data1.txt'\u001b[0m\u001b[1;33m,\u001b[0m\u001b[1;34m'x'\u001b[0m\u001b[1;33m)\u001b[0m \u001b[1;32mas\u001b[0m \u001b[0mf\u001b[0m\u001b[1;33m:\u001b[0m\u001b[1;33m\u001b[0m\u001b[1;33m\u001b[0m\u001b[0m\n\u001b[0m\u001b[0;32m      2\u001b[0m     \u001b[0mdata\u001b[0m\u001b[1;33m=\u001b[0m\u001b[0minput\u001b[0m\u001b[1;33m(\u001b[0m\u001b[1;33m)\u001b[0m\u001b[1;33m\u001b[0m\u001b[1;33m\u001b[0m\u001b[0m\n\u001b[0;32m      3\u001b[0m     \u001b[0mf1\u001b[0m\u001b[1;33m=\u001b[0m\u001b[0mf\u001b[0m\u001b[1;33m.\u001b[0m\u001b[0mwrite\u001b[0m\u001b[1;33m(\u001b[0m\u001b[0mdata\u001b[0m\u001b[1;33m)\u001b[0m\u001b[1;33m\u001b[0m\u001b[1;33m\u001b[0m\u001b[0m\n",
      "\u001b[1;31mFileExistsError\u001b[0m: [Errno 17] File exists: 'data1.txt'"
     ]
    }
   ],
   "source": [
    "with open('data1.txt','x') as f:\n",
    "    data=input()\n",
    "    f1=f.write(data)"
   ]
  },
  {
   "cell_type": "code",
   "execution_count": 44,
   "id": "e1b9d34a-cde7-45cd-9275-19fc0b6e69c1",
   "metadata": {},
   "outputs": [
    {
     "name": "stdin",
     "output_type": "stream",
     "text": [
      " 1 2 3 4\n"
     ]
    },
    {
     "name": "stdout",
     "output_type": "stream",
     "text": [
      "['1', '2', '3', '4']\n",
      "[1, 2, 3, 4]\n"
     ]
    }
   ],
   "source": [
    "# map(functionname/datatype name,variable)\n",
    "l=input().split()\n",
    "print(l)\n",
    "m=list(map(int,l))\n",
    "print(m)"
   ]
  },
  {
   "cell_type": "code",
   "execution_count": 45,
   "id": "6b02c84c-6f41-4240-a08e-77663d828189",
   "metadata": {},
   "outputs": [
    {
     "name": "stdout",
     "output_type": "stream",
     "text": [
      "abc 40 50 60\n",
      "def 50 70 30\n",
      "ghi 20 10 50\n"
     ]
    }
   ],
   "source": [
    "with open('marks.txt','r') as f:\n",
    "    f1=f.read()\n",
    "    print(f1)\n",
    "    "
   ]
  },
  {
   "cell_type": "code",
   "execution_count": 54,
   "id": "b4d761ee-1180-43a0-80e3-121ba389ca24",
   "metadata": {},
   "outputs": [
    {
     "name": "stdout",
     "output_type": "stream",
     "text": [
      "abc 150\n",
      "def 150\n",
      "ghi 80\n"
     ]
    }
   ],
   "source": [
    "with open('marks.txt','r') as f:\n",
    "    h=f.readlines()\n",
    "    #print(h)\n",
    "    for i in h:\n",
    "       # print(i)\n",
    "        g1=i.split()\n",
    "       # print(g1)\n",
    "        w=g1[0]\n",
    "       # print(w)\n",
    "        t=sum(list(map(int,g1[1:])))\n",
    "        print(w,t)"
   ]
  },
  {
   "cell_type": "code",
   "execution_count": 63,
   "id": "bae00e96-0809-4014-a571-a495d55f32e3",
   "metadata": {},
   "outputs": [
    {
     "name": "stdout",
     "output_type": "stream",
     "text": [
      "4\n"
     ]
    }
   ],
   "source": [
    "# number of lines\n",
    "f=open('data.txt','r')\n",
    "f1=f.readlines()\n",
    "print(len(f1))\n",
    "f.close()\n"
   ]
  },
  {
   "cell_type": "code",
   "execution_count": 64,
   "id": "f023e18f-f997-440f-98f0-abb7b93874c0",
   "metadata": {},
   "outputs": [
    {
     "name": "stdout",
     "output_type": "stream",
     "text": [
      "['python', 'programming', 'kits', 'college', 'good', 'morning']\n",
      "6\n"
     ]
    }
   ],
   "source": [
    "# number of words\n",
    "f=open('data.txt','r')\n",
    "f1=f.read()\n",
    "h=f1.split()\n",
    "print(h)\n",
    "print(len(h))"
   ]
  },
  {
   "cell_type": "code",
   "execution_count": 62,
   "id": "c31176f3-214c-435c-9210-7c07d1e6b67f",
   "metadata": {},
   "outputs": [
    {
     "name": "stdout",
     "output_type": "stream",
     "text": [
      "python programming\n",
      "kits\n",
      "college\n",
      "good morning\n",
      "44\n"
     ]
    }
   ],
   "source": [
    "# number of letters\n",
    "f=open('data.txt','r')\n",
    "h=f.read()\n",
    "print(h)\n",
    "print(len(h))"
   ]
  },
  {
   "cell_type": "code",
   "execution_count": null,
   "id": "fcfac856-d4b7-4e2f-bdf2-b49760919aaa",
   "metadata": {},
   "outputs": [],
   "source": []
  }
 ],
 "metadata": {
  "kernelspec": {
   "display_name": "Python 3",
   "language": "python",
   "name": "python3"
  },
  "language_info": {
   "codemirror_mode": {
    "name": "ipython",
    "version": 3
   },
   "file_extension": ".py",
   "mimetype": "text/x-python",
   "name": "python",
   "nbconvert_exporter": "python",
   "pygments_lexer": "ipython3",
   "version": "3.8.8"
  }
 },
 "nbformat": 4,
 "nbformat_minor": 5
}
