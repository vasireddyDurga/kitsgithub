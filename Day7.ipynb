{
 "cells": [
  {
   "cell_type": "code",
   "execution_count": 2,
   "id": "8606098a-7baa-48b2-9375-5c5bd8fa4536",
   "metadata": {},
   "outputs": [
    {
     "data": {
      "text/plain": [
       "120"
      ]
     },
     "execution_count": 2,
     "metadata": {},
     "output_type": "execute_result"
    }
   ],
   "source": [
    "# function call itself\n",
    "def rcb(n):\n",
    "    if n==1:\n",
    "        return 1\n",
    "    else:\n",
    "        return n*rcb(n-1)\n",
    "n=5\n",
    "rcb(n)"
   ]
  },
  {
   "cell_type": "code",
   "execution_count": 7,
   "id": "34ea0068-c7f6-433b-9909-2bcb2d65d61d",
   "metadata": {},
   "outputs": [
    {
     "data": {
      "text/plain": [
       "3628800"
      ]
     },
     "execution_count": 7,
     "metadata": {},
     "output_type": "execute_result"
    }
   ],
   "source": [
    "def rcb(n):\n",
    "    if n==1:\n",
    "        return 1\n",
    "    else:\n",
    "        return n*rcb(n-1)\n",
    "n=10\n",
    "rcb(n)\n"
   ]
  },
  {
   "cell_type": "code",
   "execution_count": 9,
   "id": "8a47c760-12b3-482c-882d-704182513f6d",
   "metadata": {},
   "outputs": [
    {
     "name": "stdout",
     "output_type": "stream",
     "text": [
      "clz\n",
      "students\n",
      "python\n"
     ]
    }
   ],
   "source": [
    "# arbitary *,**\n",
    "def name(*names):\n",
    "    for i in names:\n",
    "        print(i)\n",
    "name('clz','students','python')"
   ]
  },
  {
   "cell_type": "code",
   "execution_count": 10,
   "id": "c24f8f9b-c5f2-4cef-b65e-a58fd5b7b3ab",
   "metadata": {},
   "outputs": [
    {
     "name": "stdout",
     "output_type": "stream",
     "text": [
      "kkr ksr\n"
     ]
    }
   ],
   "source": [
    "def dublestar(**names):\n",
    "    print(names['firstname'],names['lastname'])\n",
    "dublestar(firstname='kkr',lastname='ksr')"
   ]
  },
  {
   "cell_type": "markdown",
   "id": "ab0bb49a-0911-4b9d-9afe-0d4142f859ea",
   "metadata": {},
   "source": [
    "# List Comprehension"
   ]
  },
  {
   "cell_type": "code",
   "execution_count": 11,
   "id": "1e2a250a-8f5f-490a-80fa-1802984e1385",
   "metadata": {},
   "outputs": [
    {
     "name": "stdout",
     "output_type": "stream",
     "text": [
      "[0, 2, 4, 6, 8, 10, 12, 14, 16, 18, 20]\n"
     ]
    }
   ],
   "source": [
    "l=[]\n",
    "for i in range(0,21,2):\n",
    "    l.append(i)\n",
    "print(l)"
   ]
  },
  {
   "cell_type": "code",
   "execution_count": 12,
   "id": "8bf5c830-65ad-487e-a427-ebe3f07638ef",
   "metadata": {},
   "outputs": [
    {
     "data": {
      "text/plain": [
       "[0, 2, 4, 6, 8, 10, 12, 14, 16, 18, 20]"
      ]
     },
     "execution_count": 12,
     "metadata": {},
     "output_type": "execute_result"
    }
   ],
   "source": [
    "# [exp itar con]\n",
    "[val for val in range(0,21,2)]"
   ]
  },
  {
   "cell_type": "code",
   "execution_count": 14,
   "id": "c7bb77cb-8c36-4664-b8c3-5313fe411810",
   "metadata": {},
   "outputs": [
    {
     "data": {
      "text/plain": [
       "['k', 'k', 'r', ' ', 'k', 's', 'r', ' ', 'c', 'o', 'l', 'l', 'e', 'g', 'e']"
      ]
     },
     "execution_count": 14,
     "metadata": {},
     "output_type": "execute_result"
    }
   ],
   "source": [
    "[st for st in \"kkr ksr college\"]"
   ]
  },
  {
   "cell_type": "code",
   "execution_count": 15,
   "id": "c99c45dc-4ca0-403e-b607-c512e20c8a4d",
   "metadata": {},
   "outputs": [
    {
     "data": {
      "text/plain": [
       "['kkr', 'ksr', 'sankar', 'ktr', 'kvr']"
      ]
     },
     "execution_count": 15,
     "metadata": {},
     "output_type": "execute_result"
    }
   ],
   "source": [
    "lc=['kkr','ksr','guntur','college','gundala','sankar','ktr','kvr','cinesqure']\n",
    "nl=[]\n",
    "for i in lc:\n",
    "    if 'k' in i:\n",
    "        nl.append(i)\n",
    "nl"
   ]
  },
  {
   "cell_type": "code",
   "execution_count": 16,
   "id": "e08b3c5d-7d83-45c0-8fbc-656aebe82f6b",
   "metadata": {},
   "outputs": [
    {
     "data": {
      "text/plain": [
       "['kkr', 'ksr', 'sankar', 'ktr', 'kvr']"
      ]
     },
     "execution_count": 16,
     "metadata": {},
     "output_type": "execute_result"
    }
   ],
   "source": [
    "lc=['kkr','ksr','guntur','college','gundala','sankar','ktr','kvr','cinesqure']\n",
    "[out for out in lc if 'k' in out]"
   ]
  },
  {
   "cell_type": "code",
   "execution_count": 18,
   "id": "538475ab-860a-4288-ada3-d41759c690b9",
   "metadata": {},
   "outputs": [
    {
     "data": {
      "text/plain": [
       "[4, 5, 6]"
      ]
     },
     "execution_count": 18,
     "metadata": {},
     "output_type": "execute_result"
    }
   ],
   "source": [
    "[k for k in [1,2,3,4,5,6] if k>3]"
   ]
  },
  {
   "cell_type": "code",
   "execution_count": 19,
   "id": "55186b63-ff34-4a0f-ac45-5d40b6a4aad5",
   "metadata": {},
   "outputs": [
    {
     "data": {
      "text/plain": [
       "[8, 10, 12]"
      ]
     },
     "execution_count": 19,
     "metadata": {},
     "output_type": "execute_result"
    }
   ],
   "source": [
    "[k*2 for k in [1,2,3,4,5,6] if k>3]"
   ]
  },
  {
   "cell_type": "code",
   "execution_count": 20,
   "id": "193942d4-13da-4601-a9f2-3d6f546f6950",
   "metadata": {},
   "outputs": [
    {
     "data": {
      "text/plain": [
       "[16, 25, 36]"
      ]
     },
     "execution_count": 20,
     "metadata": {},
     "output_type": "execute_result"
    }
   ],
   "source": [
    "[k**2 for k in [1,2,3,4,5,6] if k>3]"
   ]
  },
  {
   "cell_type": "code",
   "execution_count": 24,
   "id": "629b6040-85a1-4835-893a-164b16d8612d",
   "metadata": {},
   "outputs": [
    {
     "data": {
      "text/plain": [
       "[1, 2, 3, 4, 5, 6, 7, 8, 9, 10]"
      ]
     },
     "execution_count": 24,
     "metadata": {},
     "output_type": "execute_result"
    }
   ],
   "source": [
    "tt=[[1,2,3,4],[5,6,7,8],[9,10]]\n",
    "#[b for kk in tt for b in kk]\n",
    "[nlt for n in tt for nlt in n]"
   ]
  },
  {
   "cell_type": "code",
   "execution_count": 26,
   "id": "45ce7a78-76ff-48a7-98ad-69e7a54def93",
   "metadata": {},
   "outputs": [
    {
     "data": {
      "text/plain": [
       "{0, 1, 2, 3, 4, 5, 6, 7, 8, 9}"
      ]
     },
     "execution_count": 26,
     "metadata": {},
     "output_type": "execute_result"
    }
   ],
   "source": [
    "{i for i in range(10)}"
   ]
  },
  {
   "cell_type": "code",
   "execution_count": 27,
   "id": "e8d4d194-3e03-498e-bb4d-8c4659c0dd4f",
   "metadata": {},
   "outputs": [
    {
     "name": "stdout",
     "output_type": "stream",
     "text": [
      "{0, 2, 4, 6, 8, 10, 12, 14, 16, 18, 20, 22, 24, 26, 28, 30, 32, 34, 36, 38, 40, 42, 44, 46, 48, 50, 52, 54, 56, 58, 60, 62, 64, 66, 68, 70, 72, 74, 76, 78, 80, 82, 84, 86, 88, 90, 92, 94, 96, 98} "
     ]
    }
   ],
   "source": [
    "s={i for i in range(0,100,2)}\n",
    "print(s,end=\" \")\n"
   ]
  },
  {
   "cell_type": "code",
   "execution_count": 29,
   "id": "29cec69c-6d97-4a16-a474-f2deeb83c5a2",
   "metadata": {},
   "outputs": [
    {
     "name": "stdout",
     "output_type": "stream",
     "text": [
      "{(0, 0), (8, 16), (3, 6), (5, 10), (6, 12), (1, 2), (9, 18), (2, 4), (4, 8), (7, 14)}\n"
     ]
    }
   ],
   "source": [
    "kt={(x,x*2) for x in range(10)}\n",
    "print(kt,sep='\\t')"
   ]
  },
  {
   "cell_type": "code",
   "execution_count": 32,
   "id": "428c7f29-b06f-44ab-b4d1-ce67cc2c9a0c",
   "metadata": {},
   "outputs": [
    {
     "name": "stdout",
     "output_type": "stream",
     "text": [
      "['ArithmeticError', 'AssertionError', 'AttributeError', 'BaseException', 'BlockingIOError', 'BrokenPipeError', 'BufferError', 'BytesWarning', 'ChildProcessError', 'ConnectionAbortedError', 'ConnectionError', 'ConnectionRefusedError', 'ConnectionResetError', 'DeprecationWarning', 'EOFError', 'Ellipsis', 'EnvironmentError', 'Exception', 'False', 'FileExistsError', 'FileNotFoundError', 'FloatingPointError', 'FutureWarning', 'GeneratorExit', 'IOError', 'ImportError', 'ImportWarning', 'IndentationError', 'IndexError', 'InterruptedError', 'IsADirectoryError', 'KeyError', 'KeyboardInterrupt', 'LookupError', 'MemoryError', 'ModuleNotFoundError', 'NameError', 'None', 'NotADirectoryError', 'NotImplemented', 'NotImplementedError', 'OSError', 'OverflowError', 'PendingDeprecationWarning', 'PermissionError', 'ProcessLookupError', 'RecursionError', 'ReferenceError', 'ResourceWarning', 'RuntimeError', 'RuntimeWarning', 'StopAsyncIteration', 'StopIteration', 'SyntaxError', 'SyntaxWarning', 'SystemError', 'SystemExit', 'TabError', 'TimeoutError', 'True', 'TypeError', 'UnboundLocalError', 'UnicodeDecodeError', 'UnicodeEncodeError', 'UnicodeError', 'UnicodeTranslateError', 'UnicodeWarning', 'UserWarning', 'ValueError', 'Warning', 'WindowsError', 'ZeroDivisionError', '__IPYTHON__', '__build_class__', '__debug__', '__doc__', '__import__', '__loader__', '__name__', '__package__', '__spec__', 'abs', 'all', 'any', 'ascii', 'bin', 'bool', 'breakpoint', 'bytearray', 'bytes', 'callable', 'chr', 'classmethod', 'compile', 'complex', 'copyright', 'credits', 'delattr', 'dict', 'dir', 'display', 'divmod', 'enumerate', 'eval', 'exec', 'filter', 'float', 'format', 'frozenset', 'get_ipython', 'getattr', 'globals', 'hasattr', 'hash', 'help', 'hex', 'id', 'input', 'int', 'isinstance', 'issubclass', 'iter', 'len', 'license', 'list', 'locals', 'map', 'max', 'memoryview', 'min', 'next', 'object', 'oct', 'open', 'ord', 'pow', 'print', 'property', 'range', 'repr', 'reversed', 'round', 'set', 'setattr', 'slice', 'sorted', 'staticmethod', 'str', 'sum', 'super', 'tuple', 'type', 'vars', 'zip']\n"
     ]
    }
   ],
   "source": [
    "# madule and packages\n",
    "import builtins\n",
    "print(dir(builtins))"
   ]
  },
  {
   "cell_type": "code",
   "execution_count": 33,
   "id": "b507f569-63bf-4acf-af38-9f2dab754bd6",
   "metadata": {},
   "outputs": [
    {
     "name": "stdout",
     "output_type": "stream",
     "text": [
      "['__doc__', '__loader__', '__name__', '__package__', '__spec__', 'acos', 'acosh', 'asin', 'asinh', 'atan', 'atan2', 'atanh', 'ceil', 'comb', 'copysign', 'cos', 'cosh', 'degrees', 'dist', 'e', 'erf', 'erfc', 'exp', 'expm1', 'fabs', 'factorial', 'floor', 'fmod', 'frexp', 'fsum', 'gamma', 'gcd', 'hypot', 'inf', 'isclose', 'isfinite', 'isinf', 'isnan', 'isqrt', 'ldexp', 'lgamma', 'log', 'log10', 'log1p', 'log2', 'modf', 'nan', 'perm', 'pi', 'pow', 'prod', 'radians', 'remainder', 'sin', 'sinh', 'sqrt', 'tan', 'tanh', 'tau', 'trunc']\n"
     ]
    }
   ],
   "source": [
    "import math as mt\n",
    "print(dir(mt))"
   ]
  },
  {
   "cell_type": "code",
   "execution_count": 34,
   "id": "9e2f16a6-b7ba-4966-a4b0-89f0d410084d",
   "metadata": {},
   "outputs": [
    {
     "data": {
      "text/plain": [
       "1.6197751905438615"
      ]
     },
     "execution_count": 34,
     "metadata": {},
     "output_type": "execute_result"
    }
   ],
   "source": [
    "mt.tan(45)"
   ]
  },
  {
   "cell_type": "code",
   "execution_count": 35,
   "id": "ebaacdd6-de44-49cc-9c23-98552727acbb",
   "metadata": {},
   "outputs": [
    {
     "data": {
      "text/plain": [
       "0.5253219888177297"
      ]
     },
     "execution_count": 35,
     "metadata": {},
     "output_type": "execute_result"
    }
   ],
   "source": [
    "mt.cos(45)"
   ]
  },
  {
   "cell_type": "code",
   "execution_count": 36,
   "id": "26975e3c-32a8-4626-b53f-2f4f83eec099",
   "metadata": {},
   "outputs": [
    {
     "data": {
      "text/plain": [
       "0.8939966636005579"
      ]
     },
     "execution_count": 36,
     "metadata": {},
     "output_type": "execute_result"
    }
   ],
   "source": [
    "mt.sin(90)"
   ]
  },
  {
   "cell_type": "code",
   "execution_count": 37,
   "id": "6d3da367-2918-4c5d-a4be-aa9f82c03a69",
   "metadata": {},
   "outputs": [
    {
     "data": {
      "text/plain": [
       "8.0"
      ]
     },
     "execution_count": 37,
     "metadata": {},
     "output_type": "execute_result"
    }
   ],
   "source": [
    "mt.pow(2,3)"
   ]
  },
  {
   "cell_type": "code",
   "execution_count": 38,
   "id": "bcfd8d9b-67e6-4092-aebf-06ef066478c1",
   "metadata": {},
   "outputs": [
    {
     "data": {
      "text/plain": [
       "125.0"
      ]
     },
     "execution_count": 38,
     "metadata": {},
     "output_type": "execute_result"
    }
   ],
   "source": [
    "mt.pow(5,3)"
   ]
  },
  {
   "cell_type": "code",
   "execution_count": 39,
   "id": "9f156350-8574-4587-a26a-7cd0c547d68f",
   "metadata": {},
   "outputs": [
    {
     "data": {
      "text/plain": [
       "3.141592653589793"
      ]
     },
     "execution_count": 39,
     "metadata": {},
     "output_type": "execute_result"
    }
   ],
   "source": [
    "mt.pi"
   ]
  },
  {
   "cell_type": "code",
   "execution_count": 41,
   "id": "103d3a4b-6858-4e35-bd65-cdfb2d97c275",
   "metadata": {},
   "outputs": [
    {
     "data": {
      "text/plain": [
       "5.0"
      ]
     },
     "execution_count": 41,
     "metadata": {},
     "output_type": "execute_result"
    }
   ],
   "source": [
    "mt.sqrt(25)"
   ]
  },
  {
   "cell_type": "code",
   "execution_count": 42,
   "id": "12fd8f36-61ed-44b3-8463-165de6ada6fd",
   "metadata": {},
   "outputs": [
    {
     "data": {
      "text/plain": [
       "9"
      ]
     },
     "execution_count": 42,
     "metadata": {},
     "output_type": "execute_result"
    }
   ],
   "source": [
    "mt.floor(9.5)"
   ]
  },
  {
   "cell_type": "code",
   "execution_count": 43,
   "id": "c77c0b39-5927-4f90-a9f5-35f2a4d68048",
   "metadata": {},
   "outputs": [
    {
     "data": {
      "text/plain": [
       "10"
      ]
     },
     "execution_count": 43,
     "metadata": {},
     "output_type": "execute_result"
    }
   ],
   "source": [
    "mt.ceil(9.5)"
   ]
  },
  {
   "cell_type": "code",
   "execution_count": 44,
   "id": "687f019a-76da-43a9-bee9-a6372c39db67",
   "metadata": {},
   "outputs": [
    {
     "data": {
      "text/plain": [
       "6"
      ]
     },
     "execution_count": 44,
     "metadata": {},
     "output_type": "execute_result"
    }
   ],
   "source": [
    "mt.gcd(12,18)"
   ]
  },
  {
   "cell_type": "code",
   "execution_count": 45,
   "id": "f6ba39a7-92eb-4acc-84ea-9f929960c95d",
   "metadata": {},
   "outputs": [
    {
     "data": {
      "text/plain": [
       "120"
      ]
     },
     "execution_count": 45,
     "metadata": {},
     "output_type": "execute_result"
    }
   ],
   "source": [
    "mt.factorial(5)"
   ]
  },
  {
   "cell_type": "code",
   "execution_count": 46,
   "id": "33632e4e-4f6a-4fbe-bc87-8ead778795a8",
   "metadata": {},
   "outputs": [
    {
     "data": {
      "text/plain": [
       "720"
      ]
     },
     "execution_count": 46,
     "metadata": {},
     "output_type": "execute_result"
    }
   ],
   "source": [
    "mt.factorial(6)"
   ]
  },
  {
   "cell_type": "code",
   "execution_count": 47,
   "id": "a39ed6dc-1dc4-4791-93aa-5ae51dceceba",
   "metadata": {},
   "outputs": [
    {
     "name": "stdout",
     "output_type": "stream",
     "text": [
      "['BPF', 'LOG4', 'NV_MAGICCONST', 'RECIP_BPF', 'Random', 'SG_MAGICCONST', 'SystemRandom', 'TWOPI', '_Sequence', '_Set', '__all__', '__builtins__', '__cached__', '__doc__', '__file__', '__loader__', '__name__', '__package__', '__spec__', '_accumulate', '_acos', '_bisect', '_ceil', '_cos', '_e', '_exp', '_inst', '_log', '_os', '_pi', '_random', '_repeat', '_sha512', '_sin', '_sqrt', '_test', '_test_generator', '_urandom', '_warn', 'betavariate', 'choice', 'choices', 'expovariate', 'gammavariate', 'gauss', 'getrandbits', 'getstate', 'lognormvariate', 'normalvariate', 'paretovariate', 'randint', 'random', 'randrange', 'sample', 'seed', 'setstate', 'shuffle', 'triangular', 'uniform', 'vonmisesvariate', 'weibullvariate']\n"
     ]
    }
   ],
   "source": [
    "import random as rd\n",
    "print(dir(rd))"
   ]
  },
  {
   "cell_type": "code",
   "execution_count": 50,
   "id": "77e3694b-6d38-4df1-8d10-e5bb40c77e96",
   "metadata": {},
   "outputs": [
    {
     "data": {
      "text/plain": [
       "7"
      ]
     },
     "execution_count": 50,
     "metadata": {},
     "output_type": "execute_result"
    }
   ],
   "source": [
    "rd.randint(0,10)"
   ]
  },
  {
   "cell_type": "code",
   "execution_count": 53,
   "id": "21b7698b-cf82-4bc9-8d73-e247580bac88",
   "metadata": {},
   "outputs": [
    {
     "data": {
      "text/plain": [
       "0.5107712775421752"
      ]
     },
     "execution_count": 53,
     "metadata": {},
     "output_type": "execute_result"
    }
   ],
   "source": [
    "rd.random()"
   ]
  },
  {
   "cell_type": "code",
   "execution_count": 54,
   "id": "8a68423c-6a59-49a5-88f0-c2950d5746f4",
   "metadata": {},
   "outputs": [
    {
     "data": {
      "text/plain": [
       "99"
      ]
     },
     "execution_count": 54,
     "metadata": {},
     "output_type": "execute_result"
    }
   ],
   "source": [
    "rd.randint(0,100)"
   ]
  },
  {
   "cell_type": "code",
   "execution_count": 56,
   "id": "6d931421-4b68-436c-ab53-c25ae8f000b7",
   "metadata": {},
   "outputs": [
    {
     "data": {
      "text/plain": [
       "7"
      ]
     },
     "execution_count": 56,
     "metadata": {},
     "output_type": "execute_result"
    }
   ],
   "source": [
    "rd.choice([1,2,3,4,5,6,7,89,100])"
   ]
  },
  {
   "cell_type": "code",
   "execution_count": null,
   "id": "913a7366-e422-45cd-a10f-f565847c570f",
   "metadata": {},
   "outputs": [],
   "source": []
  }
 ],
 "metadata": {
  "kernelspec": {
   "display_name": "Python 3",
   "language": "python",
   "name": "python3"
  },
  "language_info": {
   "codemirror_mode": {
    "name": "ipython",
    "version": 3
   },
   "file_extension": ".py",
   "mimetype": "text/x-python",
   "name": "python",
   "nbconvert_exporter": "python",
   "pygments_lexer": "ipython3",
   "version": "3.8.8"
  }
 },
 "nbformat": 4,
 "nbformat_minor": 5
}
