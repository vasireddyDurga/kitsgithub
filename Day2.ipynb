{
 "cells": [
  {
   "cell_type": "code",
   "execution_count": 21,
   "id": "9d93bb70-e1cd-412f-a1cb-f8300ed78b5a",
   "metadata": {},
   "outputs": [],
   "source": [
    "# heading1\n",
    "## heading2\n",
    "\n",
    "    \n",
    "        \n",
    "             \n"
   ]
  },
  {
   "cell_type": "markdown",
   "id": "62d5f530-574b-469a-ae3d-5c3d935f72b8",
   "metadata": {},
   "source": [
    "> 1.ordered list1<br>\n",
    ">> 2.ordered list2\n",
    ">>>3.ordered list3"
   ]
  },
  {
   "cell_type": "markdown",
   "id": "12378d9e-f83f-4e2d-86fa-d7d000f95338",
   "metadata": {},
   "source": [
    "# variables\n",
    "\n",
    "* A variable start with letter or underscore\n",
    "* cannot start with number\n",
    "* only contain alpha-numeric characteres,underscore\n",
    "* case-sensitive"
   ]
  },
  {
   "cell_type": "code",
   "execution_count": 23,
   "id": "728e8c1a-cc08-4755-85ab-121d66417115",
   "metadata": {},
   "outputs": [
    {
     "name": "stdout",
     "output_type": "stream",
     "text": [
      "10\n"
     ]
    }
   ],
   "source": [
    "a=10\n",
    "print(a)"
   ]
  },
  {
   "cell_type": "code",
   "execution_count": 24,
   "id": "a1f6abff-6da4-401e-9344-a4557112eb3d",
   "metadata": {},
   "outputs": [
    {
     "name": "stdout",
     "output_type": "stream",
     "text": [
      "34\n"
     ]
    }
   ],
   "source": [
    "_=34\n",
    "print(_)"
   ]
  },
  {
   "cell_type": "code",
   "execution_count": 25,
   "id": "8eb00e6a-c2f5-40e4-80c2-0d447da63a95",
   "metadata": {},
   "outputs": [
    {
     "name": "stdout",
     "output_type": "stream",
     "text": [
      "durga\n"
     ]
    }
   ],
   "source": [
    "a=\"durga\"\n",
    "print(a)"
   ]
  },
  {
   "cell_type": "code",
   "execution_count": 26,
   "id": "533cd7ec-21f0-42de-9eaa-fb5c34bd0b72",
   "metadata": {},
   "outputs": [
    {
     "ename": "SyntaxError",
     "evalue": "cannot assign to literal (<ipython-input-26-a88472582c58>, line 1)",
     "output_type": "error",
     "traceback": [
      "\u001b[1;36m  File \u001b[1;32m\"<ipython-input-26-a88472582c58>\"\u001b[1;36m, line \u001b[1;32m1\u001b[0m\n\u001b[1;33m    4=\"durga\"\u001b[0m\n\u001b[1;37m    ^\u001b[0m\n\u001b[1;31mSyntaxError\u001b[0m\u001b[1;31m:\u001b[0m cannot assign to literal\n"
     ]
    }
   ],
   "source": [
    "4=\"durga\"\n",
    "print(4)"
   ]
  },
  {
   "cell_type": "code",
   "execution_count": 27,
   "id": "68ef2534-9fea-4013-9037-a79b82f77b04",
   "metadata": {},
   "outputs": [
    {
     "name": "stdout",
     "output_type": "stream",
     "text": [
      "4\n"
     ]
    }
   ],
   "source": [
    "s123=4\n",
    "print(s123)"
   ]
  },
  {
   "cell_type": "code",
   "execution_count": 29,
   "id": "3034f5c2-92df-49b0-8224-5a83ea519045",
   "metadata": {},
   "outputs": [
    {
     "ename": "SyntaxError",
     "evalue": "cannot assign to operator (<ipython-input-29-a2e3a8b49cb1>, line 1)",
     "output_type": "error",
     "traceback": [
      "\u001b[1;36m  File \u001b[1;32m\"<ipython-input-29-a2e3a8b49cb1>\"\u001b[1;36m, line \u001b[1;32m1\u001b[0m\n\u001b[1;33m    sa@12=3\u001b[0m\n\u001b[1;37m    ^\u001b[0m\n\u001b[1;31mSyntaxError\u001b[0m\u001b[1;31m:\u001b[0m cannot assign to operator\n"
     ]
    }
   ],
   "source": [
    "sa@12=3"
   ]
  },
  {
   "cell_type": "markdown",
   "id": "a6d8ba0e-fd01-4a0b-9109-e368ed8cf8b1",
   "metadata": {},
   "source": [
    "# data types:\n",
    "    * integer\n",
    "    * float\n",
    "    * string"
   ]
  },
  {
   "cell_type": "code",
   "execution_count": 31,
   "id": "bba9cdb3-5cdf-48d9-841b-dcacceda5e3b",
   "metadata": {},
   "outputs": [
    {
     "name": "stdout",
     "output_type": "stream",
     "text": [
      "20\n",
      "<class 'int'>\n"
     ]
    }
   ],
   "source": [
    "a=20\n",
    "print(a)\n",
    "print(type(a))"
   ]
  },
  {
   "cell_type": "code",
   "execution_count": 32,
   "id": "cdfca277-e669-4ca7-b2b6-69a8b936157f",
   "metadata": {},
   "outputs": [
    {
     "name": "stdout",
     "output_type": "stream",
     "text": [
      "30.5\n",
      "<class 'float'>\n"
     ]
    }
   ],
   "source": [
    "a=30.5\n",
    "print(a)\n",
    "print(type(a))"
   ]
  },
  {
   "cell_type": "code",
   "execution_count": 34,
   "id": "a9f793fa-4355-4f93-9262-ebb8a0a85c30",
   "metadata": {},
   "outputs": [
    {
     "name": "stdout",
     "output_type": "stream",
     "text": [
      "durga\n",
      "<class 'str'>\n"
     ]
    }
   ],
   "source": [
    "s=\"durga\"\n",
    "print(s)\n",
    "print(type(s))"
   ]
  },
  {
   "cell_type": "code",
   "execution_count": 35,
   "id": "6448a163-f477-42ff-b803-0b0bcebc12dd",
   "metadata": {},
   "outputs": [
    {
     "name": "stdout",
     "output_type": "stream",
     "text": [
      "10\n",
      "<class 'int'>\n",
      "10.0\n",
      "<class 'float'>\n",
      "10\n",
      "<class 'str'>\n"
     ]
    }
   ],
   "source": [
    "# type casting\n",
    "a=10\n",
    "print(a)\n",
    "print(type(a))\n",
    "print(float(a))\n",
    "print(type(float(a)))\n",
    "print(str(a))\n",
    "print(type(str(a)))"
   ]
  },
  {
   "cell_type": "code",
   "execution_count": 36,
   "id": "912b8b0b-1866-48e3-acf7-0f184462fd86",
   "metadata": {},
   "outputs": [
    {
     "name": "stdout",
     "output_type": "stream",
     "text": [
      "<class 'str'>\n"
     ]
    }
   ],
   "source": [
    "a='s'\n",
    "print(type(a))"
   ]
  },
  {
   "cell_type": "code",
   "execution_count": 37,
   "id": "35aa1ece-2a0e-4a87-8adc-ddba54a0ed5f",
   "metadata": {},
   "outputs": [
    {
     "data": {
      "text/plain": [
       "20"
      ]
     },
     "execution_count": 37,
     "metadata": {},
     "output_type": "execute_result"
    }
   ],
   "source": [
    "d=20\n",
    "d"
   ]
  },
  {
   "cell_type": "code",
   "execution_count": 38,
   "id": "87629634-4b6f-43bb-b7bf-2e61c3dc76a6",
   "metadata": {},
   "outputs": [
    {
     "name": "stdout",
     "output_type": "stream",
     "text": [
      "20\n"
     ]
    }
   ],
   "source": [
    "a=d\n",
    "print(a)"
   ]
  },
  {
   "cell_type": "code",
   "execution_count": 40,
   "id": "408a18e7-2623-4e06-a96a-0f7cf6aba1f1",
   "metadata": {},
   "outputs": [
    {
     "data": {
      "text/plain": [
       "20"
      ]
     },
     "execution_count": 40,
     "metadata": {},
     "output_type": "execute_result"
    }
   ],
   "source": [
    "b=c=e=d\n",
    "b\n"
   ]
  },
  {
   "cell_type": "code",
   "execution_count": 42,
   "id": "cb244b74-615a-440b-8485-549f5ff99e16",
   "metadata": {},
   "outputs": [
    {
     "ename": "SyntaxError",
     "evalue": "invalid syntax (<ipython-input-42-1a0a765b9c5c>, line 1)",
     "output_type": "error",
     "traceback": [
      "\u001b[1;36m  File \u001b[1;32m\"<ipython-input-42-1a0a765b9c5c>\"\u001b[1;36m, line \u001b[1;32m1\u001b[0m\n\u001b[1;33m    a,b,c,d=10,20.'durga,''hello'\u001b[0m\n\u001b[1;37m                  ^\u001b[0m\n\u001b[1;31mSyntaxError\u001b[0m\u001b[1;31m:\u001b[0m invalid syntax\n"
     ]
    }
   ],
   "source": [
    "a,b,c,d=10,20.'durga,'hello'"
   ]
  },
  {
   "cell_type": "code",
   "execution_count": 46,
   "id": "5c7e460a-ca09-4c81-88b9-e6ab6c2d6e6a",
   "metadata": {},
   "outputs": [
    {
     "name": "stdout",
     "output_type": "stream",
     "text": [
      "20\n",
      "20\n",
      "20\n"
     ]
    }
   ],
   "source": [
    "print(a)\n",
    "print(b)\n",
    "print(c)"
   ]
  },
  {
   "cell_type": "code",
   "execution_count": 47,
   "id": "3b37f755-35e1-45b9-8973-c8b8786a7c8f",
   "metadata": {},
   "outputs": [
    {
     "name": "stdin",
     "output_type": "stream",
     "text": [
      "enter a value 3\n"
     ]
    },
    {
     "name": "stdout",
     "output_type": "stream",
     "text": [
      "3\n",
      "<class 'str'>\n"
     ]
    }
   ],
   "source": [
    "s=input('enter a value')\n",
    "print(s)\n",
    "print(type(s))"
   ]
  },
  {
   "cell_type": "code",
   "execution_count": 48,
   "id": "d63c49b1-eb82-4a0d-81fa-1c51955f23ef",
   "metadata": {},
   "outputs": [
    {
     "name": "stdin",
     "output_type": "stream",
     "text": [
      "enter a value 33\n"
     ]
    },
    {
     "name": "stdout",
     "output_type": "stream",
     "text": [
      "33\n",
      "<class 'int'>\n"
     ]
    }
   ],
   "source": [
    "s=int(input('enter a value'))\n",
    "print(s)\n",
    "print(type(s))"
   ]
  },
  {
   "cell_type": "code",
   "execution_count": 52,
   "id": "44cd3a5c-f82d-4adc-ad1e-a1e7c095ae02",
   "metadata": {},
   "outputs": [
    {
     "name": "stdin",
     "output_type": "stream",
     "text": [
      "enter s value 2\n",
      "enter a value 3\n"
     ]
    },
    {
     "name": "stdout",
     "output_type": "stream",
     "text": [
      "5\n",
      "addition of 3,2 is:5\n",
      "addition of 2 and 3 is:5\n"
     ]
    }
   ],
   "source": [
    "s=int(input('enter s value'))\n",
    "a=int(input('enter a value'))\n",
    "print(s+a)\n",
    "print(\"addition of %d,%d is:%d\"%(a,s,a+s))\n",
    "print(\"addition of {} and {} is:{}\".format(s,a,s+a))"
   ]
  },
  {
   "cell_type": "code",
   "execution_count": 53,
   "id": "86599c77-7cab-4921-be58-ccab306bf71a",
   "metadata": {},
   "outputs": [
    {
     "name": "stdout",
     "output_type": "stream",
     "text": [
      "False\n",
      "True\n"
     ]
    }
   ],
   "source": [
    "a=10\n",
    "b=20\n",
    "print(a is b)\n",
    "print(a is not b)"
   ]
  },
  {
   "cell_type": "code",
   "execution_count": 57,
   "id": "98c75b75-787f-4115-815b-fb4411c46979",
   "metadata": {},
   "outputs": [
    {
     "name": "stdout",
     "output_type": "stream",
     "text": [
      "True\n",
      "True\n"
     ]
    }
   ],
   "source": [
    "a=\"durga\"\n",
    "print(\"r\" in a)\n",
    "print('v'not in a)"
   ]
  },
  {
   "cell_type": "code",
   "execution_count": 59,
   "id": "12d3b8f9-dcdb-4d0e-b730-7a4f3b3f624a",
   "metadata": {},
   "outputs": [
    {
     "name": "stdin",
     "output_type": "stream",
     "text": [
      " durga\n",
      " 123\n"
     ]
    },
    {
     "name": "stdout",
     "output_type": "stream",
     "text": [
      "success\n"
     ]
    }
   ],
   "source": [
    "# check the username and password and print login successs\n",
    "user=input()\n",
    "password=int(input())\n",
    "if user=='durga':\n",
    "    if password==123:\n",
    "        print('success')\n",
    "else:\n",
    "    print('not success')"
   ]
  },
  {
   "cell_type": "code",
   "execution_count": null,
   "id": "ab111f87-7280-4b5c-9f18-9d033abb34f8",
   "metadata": {},
   "outputs": [],
   "source": []
  }
 ],
 "metadata": {
  "kernelspec": {
   "display_name": "Python 3",
   "language": "python",
   "name": "python3"
  },
  "language_info": {
   "codemirror_mode": {
    "name": "ipython",
    "version": 3
   },
   "file_extension": ".py",
   "mimetype": "text/x-python",
   "name": "python",
   "nbconvert_exporter": "python",
   "pygments_lexer": "ipython3",
   "version": "3.8.8"
  }
 },
 "nbformat": 4,
 "nbformat_minor": 5
}
